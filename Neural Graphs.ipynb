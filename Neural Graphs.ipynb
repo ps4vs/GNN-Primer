{
 "cells": [
  {
   "cell_type": "code",
   "execution_count": 7,
   "metadata": {},
   "outputs": [],
   "source": [
    "%matplotlib inline\n",
    "\n",
    "import logging\n",
    "from pathlib import Path\n",
    "import matplotlib.pyplot as plt\n",
    "from omegaconf import OmegaConf\n",
    "from tqdm import trange\n",
    "import wandb\n",
    "\n",
    "import torch\n",
    "import torch.nn.functional as F\n",
    "import torch.nn as nn\n",
    "from torch.utils.data import DataLoader\n",
    "\n",
    "import torchvision\n",
    "\n",
    "import torch_geometric.utils\n",
    "\n",
    "from experiments.data import INRDataset\n",
    "from experiments.utils import count_parameters, set_logger, set_seed\n",
    "from experiments.lr_scheduler import WarmupLRScheduler\n",
    "from nn.relational_transformer import RelationalTransformer\n",
    "\n",
    "from nn.gnn import GNNForClassification\n",
    "from nn.dws.models import MLPModelForClassification\n",
    "from nn.inr import INRPerLayer\n",
    "\n",
    "set_logger()\n",
    "\n"
   ]
  },
  {
   "cell_type": "markdown",
   "metadata": {},
   "source": [
    "# Data preprocessing"
   ]
  },
  {
   "cell_type": "code",
   "execution_count": 22,
   "metadata": {},
   "outputs": [
    {
     "name": "stdout",
     "output_type": "stream",
     "text": [
      "2024-06-04 17:57:17,575 - root - INFO - train size: 55000, val size: 5000, test size: 10000\n"
     ]
    }
   ],
   "source": [
    "!python ./neural-graphs/experiments/inr_classification/dataset/generate_mnist_data_splits.py --data-path mnist-inrs --save-path . --name mnist_splits.json"
   ]
  },
  {
   "cell_type": "code",
   "execution_count": 23,
   "metadata": {},
   "outputs": [
    {
     "name": "stdout",
     "output_type": "stream",
     "text": [
      "weights_mean: [-4.6946126531111076e-05, -4.879618842323907e-08, 7.019223994575441e-05]\n",
      "weights_std: [0.06281439960002899, 0.018272986635565758, 0.11789131909608841]\n",
      "biases_mean: [1.6350102669093758e-05, 6.972527444304433e-06, -0.012316767126321793]\n",
      "biases_std: [0.021335216239094734, 0.011009006761014462, 0.09988907724618912]\n"
     ]
    }
   ],
   "source": [
    "!python ./neural-graphs/experiments/inr_classification/dataset/compute_mnist_statistics.py --splits-path mnist_splits.json --statistics-path mnist_statistics.pth"
   ]
  },
  {
   "cell_type": "markdown",
   "metadata": {},
   "source": [
    "# INR Dataset\n",
    "[Blog on Implicit Neural Representations ](https://medium.com/@nathaliemariehager/an-introduction-to-neural-implicit-representations-with-use-cases-ad331ca12907)\n"
   ]
  },
  {
   "cell_type": "code",
   "execution_count": 53,
   "metadata": {},
   "outputs": [],
   "source": [
    "dataset_dir = \"./neural-graphs/experiments/inr_classification/dataset\"\n",
    "splits_path = \"mnist_splits.json\"\n",
    "statistics_path = \"mnist_statistics.pth\"\n",
    "\n",
    "img_shape = (28, 28)\n",
    "batch_size = 2"
   ]
  },
  {
   "cell_type": "code",
   "execution_count": 54,
   "metadata": {},
   "outputs": [],
   "source": [
    "orig_mnist = torchvision.datasets.MNIST(\n",
    "    Path(dataset_dir)/\"mnist\",\n",
    "    train=True,\n",
    "    download=True,\n",
    "    transform=torchvision.transforms.ToTensor(),\n",
    ")"
   ]
  },
  {
   "cell_type": "code",
   "execution_count": 55,
   "metadata": {},
   "outputs": [
    {
     "name": "stdout",
     "output_type": "stream",
     "text": [
      "3\n",
      "torch.Size([2, 2, 32, 1])\n",
      "3\n",
      "torch.Size([2, 32, 1])\n"
     ]
    }
   ],
   "source": [
    "from torchvision.utils import save_image, make_grid\n",
    "\n",
    "from experiments.data import BatchSiren, INRDataset\n",
    "\n",
    "dataset = INRDataset(\n",
    "    dataset_dir = dataset_dir,\n",
    "    split=\"train\",\n",
    "    normalize=False,\n",
    "    augmentation=False,\n",
    "    splits_path=splits_path,\n",
    "    statistics_path=statistics_path,\n",
    ")\n",
    "\n",
    "loader = torch.utils.data.DataLoader(dataset, batch_size=batch_size, shuffle=False)\n",
    "batch = next(iter(loader))\n",
    "\n",
    "dataset_aug = INRDataset(\n",
    "    dataset_dir=dataset_dir,\n",
    "    split=\"train\",\n",
    "    normalize=False,\n",
    "    augmentation=True,\n",
    "    splits_path=splits_path,\n",
    "    statistics_path=statistics_path,\n",
    ")\n",
    "\n",
    "loader_aug = torch.utils.data.DataLoader(\n",
    "    dataset_aug, batch_size=batch_size, shuffle=False\n",
    ")\n",
    "batch_aug = next(iter(loader_aug))\n",
    "\n",
    "print(len(batch.weights))\n",
    "print(batch.weights[0].shape)\n",
    "print(len(batch.biases))\n",
    "print(batch.biases[0].shape)"
   ]
  },
  {
   "cell_type": "code",
   "execution_count": 56,
   "metadata": {},
   "outputs": [
    {
     "data": {
      "image/png": "[encoded data removed]",
      "text/plain": [
       "<Figure size 1000x2000 with 3 Axes>"
      ]
     },
     "metadata": {},
     "output_type": "display_data"
    }
   ],
   "source": [
    "inr_model = BatchSiren(2, 1, img_shape=img_shape)\n",
    "# The inr_model takes in weights and reconstructs the inr_representation to explicit form.\n",
    "out = inr_model(batch.weights, batch.biases)\n",
    "out = out.transpose(1, 2).unflatten(2, img_shape)\n",
    "\n",
    "out_aug = inr_model(batch_aug.weights, batch_aug.biases)\n",
    "out_aug = out_aug.transpose(1, 2).unflatten(2, img_shape)\n",
    "\n",
    "indices = [\n",
    "    int(p.parts[-3].split(\"_\")[-1]) for p in dataset.dataset[\"path\"][:batch_size]\n",
    "]\n",
    "orig_images = [orig_mnist[idx][0] for idx in indices]\n",
    "\n",
    "fig, ax = plt.subplots(1, 3, figsize=(10, 20))\n",
    "\n",
    "ax[0].imshow(make_grid(orig_images).permute(1, 2, 0).clip(0, 1))\n",
    "ax[0].set_title(\"Original Images\")\n",
    "ax[0].set_axis_off()\n",
    "\n",
    "ax[1].imshow(make_grid(out).permute(1, 2, 0).clip(0, 1))\n",
    "ax[1].set_title(\"INR reconstructions\")\n",
    "ax[1].set_axis_off()\n",
    "\n",
    "ax[2].imshow(make_grid(out_aug).permute(1, 2, 0).clip(0, 1))\n",
    "ax[2].set_title(\"Augmented INR reconstructions\")\n",
    "ax[2].set_axis_off()"
   ]
  },
  {
   "cell_type": "markdown",
   "metadata": {},
   "source": [
    "# Train, Val, Test Datasets"
   ]
  },
  {
   "cell_type": "code",
   "execution_count": 57,
   "metadata": {},
   "outputs": [],
   "source": [
    "train_set = INRDataset(\n",
    "    dataset_dir=dataset_dir,\n",
    "    split=\"train\",\n",
    "    normalize=False,\n",
    "    augmentation=True,\n",
    "    splits_path=splits_path,\n",
    "    statistics_path=statistics_path,\n",
    ")\n",
    "\n",
    "val_set = INRDataset(\n",
    "    dataset_dir=dataset_dir,\n",
    "    split=\"val\",\n",
    "    normalize=False,\n",
    "    splits_path=splits_path,\n",
    "    statistics_path=statistics_path,\n",
    ")\n",
    "\n",
    "test_set = INRDataset(\n",
    "    dataset_dir=dataset_dir,\n",
    "    split=\"test\",\n",
    "    normalize=False,\n",
    "    splits_path=splits_path,\n",
    "    statistics_path=statistics_path,\n",
    ")"
   ]
  },
  {
   "cell_type": "markdown",
   "metadata": {},
   "source": [
    "# DataLoaders\n"
   ]
  },
  {
   "cell_type": "code",
   "execution_count": 60,
   "metadata": {},
   "outputs": [
    {
     "name": "stderr",
     "output_type": "stream",
     "text": [
      "2024-06-04 22:05:03,218 - root - INFO - train size 55000, val size 5000, test size 10000\n"
     ]
    }
   ],
   "source": [
    "batch_size = 64\n",
    "num_workers = 8\n",
    "\n",
    "train_loader = torch.utils.data.DataLoader(\n",
    "    dataset=train_set,\n",
    "    batch_size=batch_size,\n",
    "    shuffle=True,\n",
    "    num_workers=num_workers,\n",
    "    pin_memory=True,\n",
    ")\n",
    "\n",
    "val_loader = torch.utils.data.DataLoader(\n",
    "    dataset=val_set,\n",
    "    batch_size=batch_size,\n",
    "    num_workers=num_workers,\n",
    "    shuffle=False,\n",
    "    pin_memory=True,\n",
    ")\n",
    "\n",
    "test_loader = torch.utils.data.DataLoader(\n",
    "    dataset=test_set,\n",
    "    batch_size=batch_size,\n",
    "    shuffle=False,\n",
    "    num_workers=num_workers,\n",
    "    pin_memory=True,\n",
    ")\n",
    "\n",
    "logging.info(\n",
    "    f\"train size {len(train_set)}, \"\n",
    "    f\"val size {len(val_set)}, \"\n",
    "    f\"test size {len(test_set)}\"\n",
    ")"
   ]
  },
  {
   "cell_type": "markdown",
   "metadata": {},
   "source": [
    "Look at input INR's shapes: weight matrices are of shape (in_dim, out_dim, channels),\n",
    "and biases are of shape (out_dim, channels)."
   ]
  },
  {
   "cell_type": "code",
   "execution_count": 67,
   "metadata": {},
   "outputs": [
    {
     "name": "stdout",
     "output_type": "stream",
     "text": [
      "dict_keys(['weights', 'biases', 'label'])\n",
      "Weights: [torch.Size([2, 32, 1]), torch.Size([32, 32, 1]), torch.Size([32, 1, 1])]\n",
      "Biases: [torch.Size([32, 1]), torch.Size([32, 1]), torch.Size([1, 1])]\n"
     ]
    }
   ],
   "source": [
    "print(train_set[0].as_dict().keys())\n",
    "point = train_set[0]\n",
    "\n",
    "print(\"Weights:\", [w.shape for w in point.weights])\n",
    "print(\"Biases:\", [b.shape for b in point.biases])"
   ]
  },
  {
   "cell_type": "markdown",
   "metadata": {},
   "source": [
    "### Initialize Neural Graphs Transformer"
   ]
  },
  {
   "cell_type": "code",
   "execution_count": 68,
   "metadata": {},
   "outputs": [
    {
     "name": "stderr",
     "output_type": "stream",
     "text": [
      "2024-06-04 22:10:15,148 - root - INFO - device = cpu\n"
     ]
    }
   ],
   "source": [
    "device = torch.device(\"cuda\" if torch.cuda.is_available() else \"cpu\")\n",
    "logging.info(f\"device = {device}\")"
   ]
  },
  {
   "cell_type": "code",
   "execution_count": 71,
   "metadata": {},
   "outputs": [
    {
     "name": "stderr",
     "output_type": "stream",
     "text": [
      "2024-06-04 22:15:48,004 - root - INFO - weight shapes: (torch.Size([2, 32]), torch.Size([32, 32]), torch.Size([32, 1])), bias shapes: (torch.Size([32]), torch.Size([32]), torch.Size([1])), layer_layout: [2, 32, 32, 1]\n"
     ]
    },
    {
     "name": "stdout",
     "output_type": "stream",
     "text": [
      "(torch.Size([2, 32]), torch.Size([32, 32]), torch.Size([32, 1]))\n",
      "(torch.Size([32]), torch.Size([32]), torch.Size([1]))\n"
     ]
    }
   ],
   "source": [
    "# Compute the layer layout\n",
    "point = train_set[0]\n",
    "weight_shapes = tuple(weight.shape[:2] for weight in point.weights)\n",
    "bias_shapes = tuple(bias.shape[:1] for bias in point.biases)\n",
    "\n",
    "print(weight_shapes)\n",
    "print(bias_shapes)\n",
    "\n",
    "layer_layout = [weight_shapes[0][0]] + [b[0] for b in bias_shapes]\n",
    "\n",
    "logging.info(f\"weight shapes: {weight_shapes}, bias shapes: {bias_shapes}, layer_layout: {layer_layout}\")"
   ]
  },
  {
   "cell_type": "code",
   "execution_count": 72,
   "metadata": {},
   "outputs": [],
   "source": [
    "stats = {\n",
    "    \"weights_mean\": [\n",
    "        -4.215954686515033e-05,\n",
    "        -7.55547659991862e-07,\n",
    "        7.886120874900371e-05,\n",
    "    ],\n",
    "    \"weights_std\": [0.06281130015850067, 0.018268151208758354, 0.11791174858808517],\n",
    "    \"biases_mean\": [\n",
    "        5.419965418695938e-06,\n",
    "        3.7173406326473923e-06,\n",
    "        -0.01239530649036169,\n",
    "    ],\n",
    "    \"biases_std\": [0.021334609016776085, 0.011004417203366756, 0.09989194571971893],\n",
    "}"
   ]
  },
  {
   "cell_type": "code",
   "execution_count": 74,
   "metadata": {},
   "outputs": [
    {
     "name": "stderr",
     "output_type": "stream",
     "text": [
      "2024-06-04 22:19:49,230 - root - INFO - number of parameters: 376586\n"
     ]
    }
   ],
   "source": [
    "# inr_model = INRPerLayer(n_layers=3, up_scale=16, out_channels=1)\n",
    "\n",
    "inr_model = None\n",
    "d_node = 64\n",
    "d_edge = 32\n",
    "\n",
    "graph_constructor = OmegaConf.create(\n",
    "    {\n",
    "        \"_target_\": \"nn.graph_constructor.GraphConstructor\",\n",
    "        \"_recursive_\": False,\n",
    "        \"_convert_\": \"all\",\n",
    "        \"d_in\": 1,\n",
    "        \"d_edge_in\": 1,\n",
    "        \"zero_out_bias\": False,\n",
    "        \"zero_out_weights\": False,\n",
    "        \"sin_emb\": True,\n",
    "        \"sin_emb_dim\": 128,\n",
    "        \"use_pos_embed\": True,\n",
    "        \"input_layers\": 1,\n",
    "        \"inp_factor\": 1,\n",
    "        \"num_probe_features\": 0,\n",
    "        \"inr_model\": inr_model,\n",
    "        \"stats\": stats,\n",
    "    }\n",
    ")\n",
    "\n",
    "model = RelationalTransformer(\n",
    "    d_node=d_node,\n",
    "    d_edge=d_edge,\n",
    "    d_attn_hid=128,\n",
    "    d_node_hid=128,\n",
    "    d_edge_hid=64,\n",
    "    d_out_hid=128,\n",
    "    d_out=10,\n",
    "    n_layers=4,\n",
    "    n_heads=8,\n",
    "    layer_layout=layer_layout,\n",
    "    graph_constructor=graph_constructor,\n",
    "    dropout=0.0,\n",
    "    use_cls_token=False,\n",
    "    pooling_method=\"cat\",\n",
    "    pooling_layer_idx=\"last\",\n",
    ").to(device)\n",
    "\n",
    "logging.info(f\"number of parameters: {count_parameters(model)}\")"
   ]
  },
  {
   "cell_type": "markdown",
   "metadata": {},
   "source": [
    "### Eval Function"
   ]
  },
  {
   "cell_type": "code",
   "execution_count": 75,
   "metadata": {},
   "outputs": [],
   "source": [
    "@torch.no_grad()\n",
    "def evaluate(model, loader, device, num_batches=None):\n",
    "    model.eval()\n",
    "    loss = 0.0\n",
    "    correct = 0.0\n",
    "    total = 0.0\n",
    "    predicted, gt = [], []\n",
    "    for i, batch in enumerate(loader):\n",
    "        if num_batches is not None and i >= num_batches:\n",
    "            break\n",
    "        batch = batch.to(device)\n",
    "        inputs = (batch.weights, batch.biases)\n",
    "        out = model(inputs)\n",
    "        loss += F.cross_entropy(out, batch.label, reduction=\"sum\")\n",
    "        total += len(batch.label)\n",
    "        pred = out.argmax(1)\n",
    "        correct += pred.eq(batch.label).sum()\n",
    "        predicted.extend(pred.cpu().numpy().tolist())\n",
    "        gt.extend(batch.label.cpu().numpy().tolist())\n",
    "        \n",
    "    model.train()\n",
    "    avg_loss = loss/total\n",
    "    avg_acc = correct/total\n",
    "    \n",
    "    return dict(avg_loss=avg_loss, avg_acc=avg_acc, predicted=predicted, gt=gt)\n"
   ]
  },
  {
   "cell_type": "markdown",
   "metadata": {},
   "source": [
    "### Model Training"
   ]
  },
  {
   "cell_type": "code",
   "execution_count": 76,
   "metadata": {},
   "outputs": [
    {
     "name": "stderr",
     "output_type": "stream",
     "text": [
      "/Users/subhashp/Documents/Practice/GNN-Primer/.env/lib/python3.10/site-packages/torch/optim/lr_scheduler.py:28: UserWarning: The verbose parameter is deprecated. Please use get_last_lr() to access the learning rate.\n",
      "  warnings.warn(\"The verbose parameter is deprecated. Please use get_last_lr() \"\n"
     ]
    }
   ],
   "source": [
    "parameters = [p for p in model.parameters() if p.requires_grad]\n",
    "optimizer = torch.optim.AdamW(\n",
    "    params=parameters, lr=1e-3, amsgrad=True, weight_decay=5e-4, fused=False\n",
    ")\n",
    "\n",
    "scheduler = WarmupLRScheduler(warmup_steps=1000, optimizer=optimizer)"
   ]
  },
  {
   "cell_type": "code",
   "execution_count": 80,
   "metadata": {},
   "outputs": [],
   "source": [
    "epochs = 5\n",
    "eval_every = 1\n",
    "\n",
    "global_step = 0\n",
    "criterion = nn.CrossEntropyLoss()\n",
    "\n",
    "val_acc = -1\n",
    "val_loss = float(\"inf\")\n",
    "best_val_acc = -1\n",
    "best_val_loss = float(\"inf\")"
   ]
  },
  {
   "cell_type": "code",
   "execution_count": 81,
   "metadata": {},
   "outputs": [
    {
     "name": "stderr",
     "output_type": "stream",
     "text": [
      "[05], train loss: 2.342, val loss: 2.330, val acc: 0.092, best val loss: 2.330, best val acc: 0.092:   0%|          | 0/5 [10:25<?, ?it/s]"
     ]
    }
   ],
   "source": [
    "epoch_iter = trange(epochs)\n",
    "\n",
    "for epoch in epoch_iter:\n",
    "    for i, batch in enumerate(train_loader):\n",
    "        model.train()\n",
    "        optimizer.zero_grad()\n",
    "        \n",
    "        batch = batch.to(device)\n",
    "        inputs = (batch.weights, batch.biases)\n",
    "        label = batch.label\n",
    "        \n",
    "        out = model(inputs)\n",
    "        loss = criterion(out, label)\n",
    "        loss.backward()\n",
    "        \n",
    "        optimizer.step()\n",
    "        \n",
    "        if scheduler is not None:\n",
    "            scheduler.step()\n",
    "            \n",
    "        epoch_iter.set_description(\n",
    "            f\"[{epoch}{i+1}], train loss: {loss.item():.3f}, val loss: {val_loss:.3f}, val acc: {val_acc:.3f}, \"\n",
    "            f\"best val loss: {best_val_loss:.3f}, best val acc: {best_val_acc:.3f}\"\n",
    "        )\n",
    "        \n",
    "        global_step += 1\n",
    "        \n",
    "        if (global_step + 1) % eval_every == 0:\n",
    "            val_loss_dict = evaluate(model, val_loader, device)\n",
    "            val_loss = val_loss_dict[\"avg_loss\"]\n",
    "            val_acc = val_loss_dict[\"avg_acc\"]\n",
    "            \n",
    "            if val_acc >= best_val_acc:\n",
    "                best_val_acc = val_acc\n",
    "                best_val_loss = val_loss"
   ]
  },
  {
   "cell_type": "code",
   "execution_count": null,
   "metadata": {},
   "outputs": [],
   "source": [
    "test_loss_dict = evaluate(model, test_loader, device)\n",
    "test_loss = test_loss_dict[\"avg_loss\"]\n",
    "test_acc = test_loss_dict[\"avg_acc\"]\n",
    "\n",
    "logging.info(\n",
    "    f\"[{epoch} {i+1}], train loss: {loss.item():.3f}, test loss: {test_loss:.3f}, test acc: {test_acc:.3f}\"\n",
    ")"
   ]
  },
  {
   "cell_type": "code",
   "execution_count": null,
   "metadata": {},
   "outputs": [],
   "source": []
  }
 ],
 "metadata": {
  "kernelspec": {
   "display_name": ".env",
   "language": "python",
   "name": "python3"
  },
  "language_info": {
   "codemirror_mode": {
    "name": "ipython",
    "version": 3
   },
   "file_extension": ".py",
   "mimetype": "text/x-python",
   "name": "python",
   "nbconvert_exporter": "python",
   "pygments_lexer": "ipython3",
   "version": "3.10.13"
  }
 },
 "nbformat": 4,
 "nbformat_minor": 2
}
